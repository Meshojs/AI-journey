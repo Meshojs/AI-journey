{
 "cells": [
  {
   "cell_type": "code",
   "execution_count": null,
   "id": "b0d0794a",
   "metadata": {},
   "outputs": [
    {
     "data": {
      "text/plain": [
       "(3, 3)"
      ]
     },
     "execution_count": 7,
     "metadata": {},
     "output_type": "execute_result"
    }
   ],
   "source": [
    "# # numpy Basics\n",
    "# import numpy as np \n",
    "\n",
    "# lstone = np.array([[1,2,3],\n",
    "#                    [5,6,7],\n",
    "#                    [99,29,10]])\n",
    "# lstone.shape\n"
   ]
  },
  {
   "cell_type": "markdown",
   "id": "e765e3c8",
   "metadata": {},
   "source": [
    "##### scalar number \n",
    "##### vector (number,)\n",
    "##### matrix (number , number) row X col\n",
    "##### All dims called tensors"
   ]
  },
  {
   "cell_type": "code",
   "execution_count": null,
   "id": "54087055",
   "metadata": {},
   "outputs": [
    {
     "data": {
      "text/plain": [
       "array([[0, 1],\n",
       "       [2, 3],\n",
       "       [4, 5],\n",
       "       [6, 7],\n",
       "       [8, 9]])"
      ]
     },
     "execution_count": 12,
     "metadata": {},
     "output_type": "execute_result"
    }
   ],
   "source": [
    "# lsttwo = np.arange(0,10,1)\n",
    "# lsttwo.reshape(2,5)\n",
    "# lsttwo.reshape(5,2)"
   ]
  },
  {
   "cell_type": "code",
   "execution_count": null,
   "id": "56dd39c3",
   "metadata": {},
   "outputs": [
    {
     "data": {
      "text/plain": [
       "array([[0., 0., 0.],\n",
       "       [0., 0., 0.],\n",
       "       [0., 0., 0.]])"
      ]
     },
     "execution_count": 13,
     "metadata": {},
     "output_type": "execute_result"
    }
   ],
   "source": [
    "# lst3 = np.zeros((3,3))\n",
    "# lst3"
   ]
  },
  {
   "cell_type": "code",
   "execution_count": null,
   "id": "f41488ab",
   "metadata": {},
   "outputs": [
    {
     "data": {
      "text/plain": [
       "array([[1., 1., 1.],\n",
       "       [1., 1., 1.],\n",
       "       [1., 1., 1.]])"
      ]
     },
     "execution_count": 14,
     "metadata": {},
     "output_type": "execute_result"
    }
   ],
   "source": [
    "# lst4 = np.ones((3,3))\n",
    "# lst4"
   ]
  },
  {
   "cell_type": "code",
   "execution_count": null,
   "id": "49704b2a",
   "metadata": {},
   "outputs": [
    {
     "data": {
      "text/plain": [
       "array([[6, 6, 6],\n",
       "       [6, 6, 6],\n",
       "       [6, 6, 6]])"
      ]
     },
     "execution_count": 15,
     "metadata": {},
     "output_type": "execute_result"
    }
   ],
   "source": [
    "# lst5 = np.full((3,3),6)\n",
    "# lst5"
   ]
  },
  {
   "cell_type": "markdown",
   "id": "463ab627",
   "metadata": {},
   "source": [
    "#### From python list to ndarray"
   ]
  },
  {
   "cell_type": "code",
   "execution_count": 25,
   "id": "65a02bb5",
   "metadata": {},
   "outputs": [],
   "source": [
    "# python_lst = [1,2,3,4,5]\n",
    "# ndarray = np.array(python_lst)\n",
    "# ndarray.shape #(5,)"
   ]
  },
  {
   "cell_type": "code",
   "execution_count": 26,
   "id": "1498da56",
   "metadata": {},
   "outputs": [],
   "source": [
    "# # slicing an array \n",
    "# import numpy as np \n",
    "# lstone = np.array([[1,2,3,4,5],\n",
    "#                    [6,7,8,9,10]])\n",
    "# # lstone.shape\n",
    "# lstone[1,::2]"
   ]
  },
  {
   "cell_type": "markdown",
   "id": "168055c6",
   "metadata": {},
   "source": [
    "##### 0 -> vertical col \n",
    "##### 1 -> horizontal rows"
   ]
  },
  {
   "cell_type": "code",
   "execution_count": null,
   "id": "4d5b47e5",
   "metadata": {},
   "outputs": [],
   "source": [
    "# import numpy as np \n",
    "\n",
    "\n",
    "# # lstone = np.array([[ [1,2,3],\n",
    "# #                      [4,5,6],\n",
    "# #                      [7,8,9] ]])\n",
    "# # np.sqrt(lstone)\n",
    "# # np.max(lstone)\n",
    "# # np.min(lstone)\n",
    "# # np.absolute(lstone)\n",
    "# # np.log(lstone)\n",
    "# # np.cos(lstone)\n",
    "# # np.sin(lstone)\n",
    "\n",
    "\n",
    "\n",
    "# # lstone = np.array([1,2,3])\n",
    "# # lst_to_append = np.array([4,5,6])\n",
    "# # np.append(lstone , lst_to_append)\n",
    "# # np.amax(lstone)\n",
    "# lstone = np.array([[10,2,3],\n",
    "#                    [4,5,6]])\n",
    "# # lstone.max(axis=0)\n",
    "# # lstone.max(axis=1)\n",
    "# # lstone.sum(axis=1)\n",
    "\n"
   ]
  },
  {
   "cell_type": "markdown",
   "id": "7fc3bdd0",
   "metadata": {},
   "source": [
    "##### View vs copy\n",
    "\n",
    "if u change the OG view will also change\n",
    "copy is otherwise\n",
    "you cant change copy if u had changed the original `it is already different array`"
   ]
  },
  {
   "cell_type": "code",
   "execution_count": null,
   "id": "7167e2e7",
   "metadata": {},
   "outputs": [
    {
     "data": {
      "text/plain": [
       "array([1, 2, 3, 4, 5, 6, 1, 2, 3, 4, 5, 6])"
      ]
     },
     "execution_count": 38,
     "metadata": {},
     "output_type": "execute_result"
    }
   ],
   "source": [
    "# import numpy as np \n",
    "\n",
    "# threedimArray = np.array(\n",
    "#     [\n",
    "#      [[1,2,3],\n",
    "#       [4,5,6]]\n",
    "#      ,\n",
    "#      [[1,2,3],\n",
    "#       [4,5,6]]\n",
    "        \n",
    "#         ]\n",
    "# )\n",
    "\n",
    "# # (1,2,3)\n",
    "\n",
    "# threedimArray.shape\n",
    "\n",
    "# flat = threedimArray.reshape(-1)\n",
    "# flat\n",
    "\n",
    "\n",
    "# # lstview = lstone.view() \n",
    "# # lstone[0] = 30\n",
    "# # lstview\n",
    "\n",
    "# # lstcopy = lstone.copy(\"C\")\n",
    "# # lstone[0] = 30\n",
    "# # lstcopy"
   ]
  },
  {
   "cell_type": "code",
   "execution_count": null,
   "id": "f81afa06",
   "metadata": {},
   "outputs": [
    {
     "name": "stdout",
     "output_type": "stream",
     "text": [
      "1\n",
      "2\n",
      "3\n",
      "4\n",
      "5\n",
      "6\n",
      "1\n",
      "2\n",
      "3\n",
      "4\n",
      "5\n",
      "6\n"
     ]
    }
   ],
   "source": [
    "# # iteriate in np array using np.nditer()\n",
    "\n",
    "# # creating 3d tensor \n",
    "# import numpy as np \n",
    "\n",
    "# arr = np.array(\n",
    "#     [\n",
    "#         [\n",
    "#             [1,2,3],\n",
    "#             [4,5,6]\n",
    "#         ],\n",
    "#         [\n",
    "#             [1,2,3],\n",
    "#             [4,5,6]\n",
    "#         ]\n",
    "#     ]\n",
    "# )\n",
    "# arr.shape\n",
    "# # for x in np.nditer(arr):\n",
    "# #     print(x)\n",
    "    \n",
    "# # or\n",
    "\n",
    "# # for x in arr : \n",
    "# #     for y in x : \n",
    "# #         for z in y : \n",
    "# #             print(z)\n",
    "\n"
   ]
  },
  {
   "cell_type": "code",
   "execution_count": null,
   "id": "d3150f88",
   "metadata": {},
   "outputs": [
    {
     "data": {
      "text/plain": [
       "array([[[ 10,  20, 200],\n",
       "        [  4,   5,   6]]])"
      ]
     },
     "execution_count": 46,
     "metadata": {},
     "output_type": "execute_result"
    }
   ],
   "source": [
    "# # sort using : np.sort()\n",
    "# import numpy as np \n",
    "\n",
    "\n",
    "# arr = np.array(\n",
    "#     [\n",
    "#         [\n",
    "#             [10 , 200 ,20],\n",
    "#             [4,5,6]\n",
    "#         ]\n",
    "#     ]\n",
    "# )\n",
    "\n",
    "# np.sort(arr)"
   ]
  },
  {
   "cell_type": "code",
   "execution_count": null,
   "id": "b0b7a24b",
   "metadata": {},
   "outputs": [
    {
     "data": {
      "text/plain": [
       "[2, 4, 6]"
      ]
     },
     "execution_count": 67,
     "metadata": {},
     "output_type": "execute_result"
    }
   ],
   "source": [
    "# # filter array \n",
    "# import numpy as np \n",
    "\n",
    "# arr = np.array([\n",
    "#     [1,2,3],\n",
    "#     [4,5,6]\n",
    "# ])\n",
    "\n",
    "# z = arr.reshape(-1)\n",
    "# v = z.tolist()\n",
    "\n",
    "# felt = filter(lambda n : n % 2 == 0 , v)\n",
    "# list(felt)\n",
    "\n"
   ]
  },
  {
   "cell_type": "code",
   "execution_count": null,
   "id": "38215dbc",
   "metadata": {},
   "outputs": [
    {
     "name": "stdout",
     "output_type": "stream",
     "text": [
      "2 3\n"
     ]
    }
   ],
   "source": [
    "# import numpy as np \n",
    "\n",
    "\n",
    "# arr = np.array(\n",
    "#     [\n",
    "#         [1,2,3],\n",
    "#         [4,5,6]\n",
    "#     ]\n",
    "# )\n",
    "\n",
    "# arr2 = np.array(\n",
    "#     [\n",
    "#         [1,2,3],\n",
    "#         [4,5,6]\n",
    "#     ]\n",
    "# )\n",
    "\n",
    "\n",
    "\n",
    "\n",
    "\n",
    "\n",
    "\n",
    "# # arr.flatten()\n",
    "# # arr.reshape(-1)\n",
    "# # arr.transpose()\n",
    "# # arr.T\n",
    "# # z = np.concatenate([arr , arr2])\n",
    "# # x = np.stack([arr,arr2]) # they are both alike but stack add one dimension \n",
    "# # print(z.ndim , x.ndim)\n",
    "\n",
    "\n"
   ]
  },
  {
   "cell_type": "code",
   "execution_count": null,
   "id": "3588a126",
   "metadata": {},
   "outputs": [
    {
     "data": {
      "text/plain": [
       "array([[8, 1, 6],\n",
       "       [0, 2, 8]], dtype=int32)"
      ]
     },
     "execution_count": 24,
     "metadata": {},
     "output_type": "execute_result"
    }
   ],
   "source": [
    "# import numpy as np \n",
    "\n",
    "\n",
    "# z = np.random.randint(0,10 ,(2,3)) # zero to 10 but (2,3) shape\n",
    "# z\n"
   ]
  },
  {
   "cell_type": "code",
   "execution_count": null,
   "id": "d63752c0",
   "metadata": {},
   "outputs": [
    {
     "data": {
      "text/plain": [
       "[array([1]),\n",
       " array([2]),\n",
       " array([3]),\n",
       " array([4]),\n",
       " array([5]),\n",
       " array([6]),\n",
       " array([7]),\n",
       " array([8])]"
      ]
     },
     "execution_count": 32,
     "metadata": {},
     "output_type": "execute_result"
    }
   ],
   "source": [
    "# import numpy as np \n",
    "\n",
    "# arr = np.array([1,2,3,4,5,6,7,8])\n",
    "# np.split(arr,8) # split must have to be on division "
   ]
  },
  {
   "cell_type": "code",
   "execution_count": null,
   "id": "5f6dbb60",
   "metadata": {},
   "outputs": [
    {
     "data": {
      "text/plain": [
       "array([-5.        , -1.66666667,  1.66666667,  5.        ])"
      ]
     },
     "execution_count": 42,
     "metadata": {},
     "output_type": "execute_result"
    }
   ],
   "source": [
    "# import numpy as np \n",
    "# #فـ linspace يقولك: تعال نقسم المسافة من 0 لـ 1 لـ 5 أجزاء متساوية.\n",
    "# z = np.linspace(-5 , 5 , 4) # gonna use it matplotlib  \n",
    "# z"
   ]
  },
  {
   "cell_type": "code",
   "execution_count": 2,
   "id": "66378bbb",
   "metadata": {},
   "outputs": [
    {
     "name": "stdout",
     "output_type": "stream",
     "text": [
      "int64\n",
      "float64\n",
      "float32\n"
     ]
    }
   ],
   "source": [
    "import numpy as np\n",
    "\n",
    "a = np.array([1, 2, 3])\n",
    "print(a.dtype)\n",
    "\n",
    "b = np.array([1.0, 2.0, 3.0])\n",
    "print(b.dtype)\n",
    "\n",
    "c = a.astype(np.float32)\n",
    "print(c.dtype)\n"
   ]
  },
  {
   "cell_type": "markdown",
   "id": "db34e76a",
   "metadata": {},
   "source": [
    "| dtype       | What it means      | Value range                  |\n",
    "| ----------- | ------------------ | ---------------------------- |\n",
    "| `int8`      | 8-bit integer      | -128 → 127                   |\n",
    "| `uint8`     | 8-bit **unsigned** | 0 → 255 (perfect for images) |\n",
    "| `int16`     | 16-bit integer     | -32,768 → 32,767             |\n",
    "| `int32`     | 32-bit integer     | Big enough for most things   |\n",
    "| `int64`     | 64-bit integer     | Bigger numbers               |\n",
    "| `float16`   | 16-bit float       | Small, low precision         |\n",
    "| `float32`   | 32-bit float       | Good balance                 |\n",
    "| `float64`   | 64-bit float       | Default for decimals         |\n",
    "| `complex64` | 32+32 bits         | Complex numbers              |\n",
    "| `bool`      | True or False      | 0 or 1                       |\n"
   ]
  },
  {
   "cell_type": "code",
   "execution_count": 13,
   "id": "b57a416e",
   "metadata": {},
   "outputs": [
    {
     "data": {
      "text/plain": [
       "np.int64(6)"
      ]
     },
     "execution_count": 13,
     "metadata": {},
     "output_type": "execute_result"
    }
   ],
   "source": [
    "import numpy as np\n",
    "\n",
    "\n",
    "arr = np.array([\n",
    "    [\n",
    "        [1,2,3]\n",
    "    ],\n",
    "    [\n",
    "        [4,5,6]\n",
    "    ]\n",
    "])\n",
    "\n",
    "# lst = arr.tolist()\n",
    "arr[1,0,2]\n",
    "\n",
    "\n",
    "\n",
    "#(2,1,3)\n",
    "# arr.shape"
   ]
  },
  {
   "cell_type": "code",
   "execution_count": null,
   "id": "226529c5",
   "metadata": {},
   "outputs": [
    {
     "data": {
      "text/plain": [
       "array([[5, 6, 7],\n",
       "       [6, 7, 8]])"
      ]
     },
     "execution_count": 48,
     "metadata": {},
     "output_type": "execute_result"
    }
   ],
   "source": [
    "# broadcasting\n",
    "\n",
    "# When shapes don’t match, NumPy checks from right to left:\n",
    "\n",
    "# If they’re same, good.\n",
    "\n",
    "# If one side is 1, it can stretch.\n",
    "\n",
    "# If they’re different and not 1, it’s an error.\n",
    "\n",
    "\n",
    "# import numpy as np \n",
    "\n",
    "# x = np.array([\n",
    "#     [1],\n",
    "#     [2]\n",
    "#     ])\n",
    "# y = np.array([\n",
    "#     [4,5,6],\n",
    "#     [4,5,6]\n",
    "# ])\n",
    "\n",
    "\n",
    "\n",
    "# x.shape\n",
    "# y.shape\n",
    "\n",
    "# x + y\n"
   ]
  },
  {
   "cell_type": "code",
   "execution_count": null,
   "id": "3a48933c",
   "metadata": {},
   "outputs": [
    {
     "data": {
      "text/plain": [
       "array([[False, False, False],\n",
       "       [ True,  True,  True]])"
      ]
     },
     "execution_count": 14,
     "metadata": {},
     "output_type": "execute_result"
    }
   ],
   "source": [
    "import numpy as np \n",
    "\n",
    "\n",
    "# arr = np.array([\n",
    "#     [1,2,3],\n",
    "#     [5,6,7]\n",
    "# ])\n",
    "\n",
    "# #mask for filtering the data\n",
    "# mask = arr > 3\n",
    "# mask"
   ]
  },
  {
   "cell_type": "code",
   "execution_count": 52,
   "id": "677ce580",
   "metadata": {},
   "outputs": [],
   "source": [
    "# arr = np.array([\n",
    "#     [1,2,3],\n",
    "#     [4,5,6]\n",
    "# ])\n",
    "\n",
    "\n",
    "# z = np.where(arr > 4)     \n",
    "\n",
    "# arr.sum(axis=1)  #col \n",
    "# # 5,7,9\n",
    "# # 6\n",
    "# # 15\n",
    "# arr2 = np.array([\n",
    "#     [231,22,13],\n",
    "#     [42,53,61]\n",
    "# ])\n",
    "\n",
    "# z = np.stack([arr , arr2])\n",
    "# z\n",
    "# a\n",
    "\n",
    "# x = np.repeat(arr,[1,2])????x"
   ]
  },
  {
   "cell_type": "code",
   "execution_count": null,
   "id": "fa2a3eef",
   "metadata": {},
   "outputs": [
    {
     "data": {
      "text/plain": [
       "array([[19, 22],\n",
       "       [43, 50]])"
      ]
     },
     "execution_count": 59,
     "metadata": {},
     "output_type": "execute_result"
    }
   ],
   "source": [
    "# matone = [\n",
    "#     [1,2],\n",
    "#     [3,4]\n",
    "# ]\n",
    "\n",
    "# mattwo = [\n",
    "#     [5,6],\n",
    "#     [7,8]\n",
    "# ]\n",
    "\n",
    "\n",
    "# result = np.dot(matone , mattwo)\n",
    "# result\n",
    "\n",
    "\n",
    "\n",
    "\n",
    "# [\n",
    "#     [6,4],\n",
    "#     [9,5]\n",
    "# ]"
   ]
  },
  {
   "cell_type": "code",
   "execution_count": 72,
   "id": "d1887306",
   "metadata": {},
   "outputs": [
    {
     "data": {
      "text/plain": [
       "array([[0, 0, 0, 0],\n",
       "       [0, 0, 0, 0],\n",
       "       [0, 0, 0, 0],\n",
       "       [0, 0, 0, 0]], dtype=int32)"
      ]
     },
     "execution_count": 72,
     "metadata": {},
     "output_type": "execute_result"
    }
   ],
   "source": [
    "# arr = np.array([\n",
    "#     [1, 2, 3, 4],\n",
    "#     [5, 6, 7, 8],\n",
    "#     [2, 6, 4, 8],\n",
    "#     [9, 2, 1, 5]\n",
    "# ])\n",
    "\n",
    "\n",
    "# arr_1 = np.linalg.inv(arr)\n",
    "# result = arr_1.astype(np.int32)\n",
    "# result"
   ]
  },
  {
   "cell_type": "code",
   "execution_count": 6,
   "id": "d8f5b4a8-78a5-42d9-a543-8eee326b1745",
   "metadata": {},
   "outputs": [
    {
     "name": "stdout",
     "output_type": "stream",
     "text": [
      "[[1 2]\n",
      " [3 1]\n",
      " [2 3]]\n"
     ]
    },
    {
     "data": {
      "text/plain": [
       "array([[13, 13],\n",
       "       [31, 31]])"
      ]
     },
     "execution_count": 6,
     "metadata": {},
     "output_type": "execute_result"
    }
   ],
   "source": [
    "# import  numpy as np \n",
    "\n",
    "# arr = np.array([\n",
    "#     [1,2,3],\n",
    "#     [4,5,6]\n",
    "# ])\n",
    "# # 2x3\n",
    "# arrtwo = np.array([\n",
    "#     [1,2,3],\n",
    "#     [1,2,3]\n",
    "# ])\n",
    "# reshape_arrtwo = arrtwo.reshape(3,2)\n",
    "# #2x3 x\n",
    "\n",
    "# print(reshape_arrtwo)\n",
    "\n",
    "# # 3x2\n",
    "\n",
    "# result = np.dot(arr , reshape_arrtwo)\n",
    "\n",
    "# result"
   ]
  },
  {
   "cell_type": "code",
   "execution_count": 16,
   "id": "d53b89de-236f-4e31-8261-1cf2e44ba673",
   "metadata": {},
   "outputs": [
    {
     "name": "stdout",
     "output_type": "stream",
     "text": [
      "[[1 4]\n",
      " [2 5]\n",
      " [3 6]]\n"
     ]
    }
   ],
   "source": [
    "# # what is the difference between dot , matmul , @\n",
    "import numpy as np \n",
    "arrone = np.array([\n",
    "    [1,2,3],\n",
    "    [4,5,6]\n",
    "])\n",
    "\n",
    "arrtwo = np.array([\n",
    "    [1,2],\n",
    "    [3,4],\n",
    "    [5,6]\n",
    "])\n",
    "\n",
    "\n",
    "# trans_arrone = arrone.T\n",
    "# trans_arrone\n",
    "# result = np.einsum(\"ij->ji\" , arrone) # transpose\n",
    "print(result)\n",
    "# np.einsum(\"ik,kj->ij\",arrone , arrtwo) # does a multiplication like things below\n",
    "\n",
    "# print(arrone @ arrtwo)\n",
    "# print(np.dot(arrone , arrtwo))\n",
    "# print(np.matmul(arrone,arrtwo))\n",
    "\n",
    "\n",
    "\n"
   ]
  },
  {
   "cell_type": "code",
   "execution_count": 10,
   "id": "2a3b583d-3c35-40aa-8f68-c8f39f153aab",
   "metadata": {},
   "outputs": [
    {
     "data": {
      "text/plain": [
       "array([1, 2])"
      ]
     },
     "execution_count": 10,
     "metadata": {},
     "output_type": "execute_result"
    }
   ],
   "source": [
    "# import numpy as np \n",
    "\n",
    "# arr = np.array([\n",
    "#     [0, 1], \n",
    "#     [1, 2]\n",
    "# ])  # pick (0,1) and (1,2)\n",
    "# arr[1]\n",
    "\n"
   ]
  },
  {
   "cell_type": "code",
   "execution_count": 1,
   "id": "cbcac44e-5fc1-476c-a8fe-8e6ef4943aec",
   "metadata": {},
   "outputs": [
    {
     "name": "stdout",
     "output_type": "stream",
     "text": [
      "[1 3 5 7 9]\n"
     ]
    }
   ],
   "source": [
    "import numpy as np\n",
    "\n",
    "arr = np.arange(10)  # [0 1 2 3 4 5 6 7 8 9]\n",
    "\n",
    "# Pick out [1, 3, 5, 7, 9] using fancy indexing\n",
    "# store it in 'picked'\n",
    "\n",
    "# Your turn: fill in\n",
    "picked = arr[arr % 2 == 1]\n",
    "print(picked)\n"
   ]
  },
  {
   "cell_type": "code",
   "execution_count": 2,
   "id": "10f05d92-506f-48ae-a914-a4f70c0e8313",
   "metadata": {},
   "outputs": [
    {
     "name": "stdout",
     "output_type": "stream",
     "text": [
      "[[1 2 3]\n",
      " [4 0 0]\n",
      " [0 0 0]]\n"
     ]
    }
   ],
   "source": [
    "mat = np.array([\n",
    "  [1, 2, 3],\n",
    "  [4, 5, 6],\n",
    "  [7, 8, 9]\n",
    "])\n",
    "\n",
    "# Make all values > 4 equal to 0\n",
    "# Do it *in place* (edit the original)\n",
    "\n",
    "# Your turn:\n",
    "mat[ mat > 4 ] = 0\n",
    "print(mat)\n"
   ]
  },
  {
   "cell_type": "code",
   "execution_count": 3,
   "id": "7c32662d-feb9-4001-9874-36948b5cd74a",
   "metadata": {},
   "outputs": [
    {
     "name": "stdout",
     "output_type": "stream",
     "text": [
      "[[11 12 13]\n",
      " [21 22 23]\n",
      " [31 32 33]]\n"
     ]
    }
   ],
   "source": [
    "a = np.array([1, 2, 3])\n",
    "b = np.array([[10], [20], [30]])\n",
    "\n",
    "# Without for loops — get:\n",
    "# [[11, 12, 13],\n",
    "#  [21, 22, 23],\n",
    "#  [31, 32, 33]]\n",
    "\n",
    "result = a  + b\n",
    "print(result)\n"
   ]
  },
  {
   "cell_type": "code",
   "execution_count": 53,
   "id": "6514cef5-26fc-481f-a4f1-70f0567825d4",
   "metadata": {},
   "outputs": [
    {
     "data": {
      "text/plain": [
       "array([[-2.5, -1.5, -0.5],\n",
       "       [-1. ,  0. ,  1. ]])"
      ]
     },
     "execution_count": 53,
     "metadata": {},
     "output_type": "execute_result"
    }
   ],
   "source": [
    "import numpy as np\n",
    "\n",
    "c = np.array([\n",
    "  [1, 2, 3],\n",
    "  [4, 5, 6]\n",
    "])\n",
    "\n",
    "# Subtract the mean of each row from the row itself.\n",
    "# So each row becomes: row - row.mean()\n",
    "\n",
    "mean_row_one = np.mean(c[0:])\n",
    "mean_row_two = np.mean(c[1:])\n",
    "\n",
    "x = c[0] - mean_row_one \n",
    "y = c[1] - mean_row_two\n",
    "\n",
    "\n",
    "result = np.append(x , y)\n",
    "z = result.reshape(2,3)\n",
    "z "
   ]
  },
  {
   "cell_type": "code",
   "execution_count": null,
   "id": "1e6fae4b-03a9-4a86-a9f4-e41dfc775c06",
   "metadata": {},
   "outputs": [],
   "source": []
  }
 ],
 "metadata": {
  "kernelspec": {
   "display_name": "Python [conda env:base] *",
   "language": "python",
   "name": "conda-base-py"
  },
  "language_info": {
   "codemirror_mode": {
    "name": "ipython",
    "version": 3
   },
   "file_extension": ".py",
   "mimetype": "text/x-python",
   "name": "python",
   "nbconvert_exporter": "python",
   "pygments_lexer": "ipython3",
   "version": "3.13.5"
  }
 },
 "nbformat": 4,
 "nbformat_minor": 5
}
