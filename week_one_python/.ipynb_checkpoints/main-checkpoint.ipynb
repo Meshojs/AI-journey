{
 "cells": [
  {
   "cell_type": "code",
   "execution_count": 1,
   "id": "50619352-8774-45b1-8e53-146e275ea755",
   "metadata": {},
   "outputs": [
    {
     "name": "stdout",
     "output_type": "stream",
     "text": [
      "hello worldd\n"
     ]
    }
   ],
   "source": [
    "# main text \n",
    "print(\"hello worldd\") "
   ]
  },
  {
   "cell_type": "code",
   "execution_count": 65,
   "id": "55e50fc6-c5cc-4966-b6f1-eb6aae853206",
   "metadata": {},
   "outputs": [
    {
     "name": "stdout",
     "output_type": "stream",
     "text": [
      "[2, 4]\n"
     ]
    }
   ],
   "source": [
    "# list \n",
    "# list_of_data = ['mesho' , \"amr\" , \"ali\" , \"hsn\" , \"mo\"] # start at int , end at int but not included\n",
    "# list_of_data[2 : 4] = [\"rn\",\"heart\"]\n",
    "# print(  list_of_data ) \n",
    "# list_of_data = ['mesho' , \"amr\" , \"ali\" , \"hsn\" , \"mo\"] \n",
    "# newList = [\"data0\" , \"data1\"]\n",
    "\n",
    "\n",
    "# list_of_data.remove(\"mesho\")\n",
    "# copy_the_list = list_of_data.copy()\n",
    "\n",
    "# print(copy_the_list)\n",
    "\n",
    "\n",
    "# list_of_data.insert(len(list_of_data) + 1  , \"endName\") #insert(index , value ) \n",
    "#list_of_data.count(\"mesho\") = 1 \n",
    "# list_of_data.reverse() retuerns None but reverse the list \n",
    "# list_of_data.extend(newList) # extend() → adds many items (from another list or any iterable).\n",
    "# print(list_of_data)\n",
    "#list_of_data.sort(key=len , reverse=True) # key: sort on what ? len maybe , reverse acsending or descending order \n",
    "#print(list_of_data)\n",
    "# val = list_of_data.pop(0) # removes the 1st item in the list and return the value of the removed data\n",
    "# print(val)\n",
    "# print(list_of_data) # removed the first item in the list \n",
    "# for item in list_of_data: \n",
    "#     if item[0] == \"m\" and item[1] == \"e\": \n",
    "#         print(item)\n",
    "\n",
    "# NOTE list.copy() = list[:]\n",
    "\n",
    "\n",
    "# a = [1,2,3]\n",
    "# b = a \n",
    "# b.append(4) # it changes the main list becasuse b.append() point at the main list in the memory \n",
    "# print(a)\n",
    "\n",
    "\n",
    "\n",
    "#  # How do you remove duplicates from a list but keep the order?\n",
    "\n",
    "# a = [4,4,3,2,2,1] \n",
    "# newList = []\n",
    "\n",
    "# for item in a : \n",
    "#     if item not in newList : \n",
    "#         newList.append(item) \n",
    "#     newList.sort()\n",
    "\n",
    "\n",
    "# print(newList)\n",
    "\n",
    "\n",
    "# a = [1 , 2 ,3 , 4 ]\n",
    "# print(  a[1:4:2]  )\n"
   ]
  },
  {
   "cell_type": "code",
   "execution_count": 73,
   "id": "1da5c4d3-2806-4b27-b135-334c1b6fdca8",
   "metadata": {},
   "outputs": [
    {
     "name": "stdout",
     "output_type": "stream",
     "text": [
      "(1, 2, 3, 4, 5)\n"
     ]
    }
   ],
   "source": [
    "#tuple\n",
    "# tuple_of_data = (\"mesho\" , 123)\n",
    "# name = tuple_of_data[0]\n",
    "# print(name)\n",
    "\n",
    "# tpl = (\"mesho\" , 19 , 'data' , 'data1' , 'data2')\n",
    "\n",
    "\n",
    "\n",
    "# name , age , *rest = tpl # where * brings the rest of items and return it as a list\n",
    "# print(name) \n",
    "# print(age)\n",
    "# print(rest)\n",
    "\n",
    "\n",
    "\n",
    "# 7️⃣ Why use tuples?\n",
    "\n",
    "# Safer: can’t be changed accidentally\n",
    "\n",
    "# Faster than lists\n",
    "\n",
    "# Can be dict keys, lists can’t\n",
    "\n",
    "\n",
    "# t = (1, [2, 3], 4)\n",
    "# x , y , z = t \n",
    "# print(y)\n",
    "\n",
    "\n",
    "# tpl = (1, 2, 3)\n",
    "# tpl += (4,5)\n",
    "\n",
    "# print(tpl)"
   ]
  },
  {
   "cell_type": "code",
   "execution_count": 109,
   "id": "9d312f2b-96a5-438b-83b7-8d8833d1d4aa",
   "metadata": {},
   "outputs": [
    {
     "data": {
      "text/plain": [
       "'html'"
      ]
     },
     "execution_count": 109,
     "metadata": {},
     "output_type": "execute_result"
    }
   ],
   "source": [
    "# dict\n",
    "# print(dct.get('age')) # get the value of key age\n",
    "# dct.pop('age') # remove the data and return the data without the removed data\n",
    "# dct.update({'name' : \"mashary\" , 'age': 18}) # add or update dict with a new dict\n",
    "# print(dct)\n",
    "# dct.popitem() #remove the latest addition in the dict\n",
    "# print(dct)\n",
    "# newList = ['name' , 'age']\n",
    "# dct = dict.fromkeys(newList , None ) # takes the iteriable to use the inner elements as keys for the dict , default value\n",
    "# print(dct)\n",
    "# dct = {\n",
    "#     ('name') : 'mashary',\n",
    "#     'skills' : { \n",
    "#         'programming' : \"html\"\n",
    "#     }\n",
    "# }\n",
    "\n",
    "# n = dct.get('skills').get('programming')\n",
    "# n\n",
    "\n"
   ]
  },
  {
   "cell_type": "code",
   "execution_count": 36,
   "id": "6fe758aa-ee2d-49b1-805e-104dd9024ec1",
   "metadata": {},
   "outputs": [
    {
     "data": {
      "text/plain": [
       "{1, 2, 6}"
      ]
     },
     "execution_count": 36,
     "metadata": {},
     "output_type": "execute_result"
    }
   ],
   "source": [
    "# sets \n",
    "\n",
    "\n",
    "# sts = { 1 , 2, 2, 3,3 } # remove the duplicates \n",
    "# # sts.add(5)\n",
    "# newList = [22 , 34 , 34]\n",
    "# sts.update(newList)  modify the og set\n",
    "# n = sts.union(newList) addition but return new set\n",
    "\n",
    "\n",
    "# Note : \n",
    "# stOne = {1 , 2 , 3 , 4 ,5 , 6} \n",
    "# stTwo = {3 , 4 , 5}\n",
    "\n",
    "# print(stOne.difference(stTwo)) # see the diff between stOne as this moment stOne has {1,2} diffrent but 3 two has it\n",
    "\n",
    "#stOne.symmetric_difference(stTwo) # stuff unique to each side.\n",
    "\n",
    "# stOne.intersection(stTwo) # intersect in What ? intersect in 3 ! \n",
    "# stOne.intersection_update(stTwo) - intesect in 3 but updates the og set\n",
    "\n",
    "\n",
    "# stOne.isdisjoint(stTwo) # return True if they dont have any common element in both set - False if they have common things\n",
    "# stOne.issubset(stTwo) # hl stOne gwa stTwo kolha ? if yes return true else false\n",
    "#stTwo.issuperset(stTwo) is the inverse of issubset\n",
    "\n",
    "# stOne.discard(3)# if u find the element just remove it if u didnt dont return any error \n",
    "# stOne\n",
    "\n",
    "\n",
    "# b = frozenset([1 , 2, 3])\n",
    "# b.add(4)\n",
    "# b\n",
    "\n",
    "\n",
    "\n",
    "\n",
    "# stOne = {1 , 2 , 3 , 4 , 5 , 6} \n",
    "# stTwo = {3 , 4 , 5}\n",
    "\n",
    "# stOne.isdisjoint(stTwo) #false - because there is element in stOne mawogoda in stTwo\n",
    "\n",
    "# # stOne.difference(stTwo)\n",
    "# stOne.difference_update(stTwo) # change the og set\n",
    "\n",
    "# stOne\n",
    "\n"
   ]
  },
  {
   "cell_type": "code",
   "execution_count": 29,
   "id": "de345b4e-cc7a-4416-bc97-72f76f560542",
   "metadata": {},
   "outputs": [
    {
     "name": "stdout",
     "output_type": "stream",
     "text": [
      "0\n",
      "**********\n",
      "1\n",
      "**********\n",
      "2\n",
      "**********\n",
      "3\n",
      "**********\n",
      "4\n",
      "**********\n",
      "5\n",
      "**********\n",
      "6\n",
      "**********\n",
      "7\n",
      "**********\n",
      "8\n",
      "**********\n",
      "9\n",
      "**********\n"
     ]
    }
   ],
   "source": [
    "# for loop \n",
    "\n",
    "# n = 5\n",
    "# for i in range(1 , n  ) : \n",
    "#     print(i * \"*\") # repeat the string\n",
    "    \n",
    "\n",
    "\n",
    "# n = 5\n",
    "\n",
    "# for i in range(1 , n+1) :\n",
    "#     val = \" \" * (n-i)\n",
    "#     val+=\"*\" * i\n",
    "#     print(val)\n",
    "\n",
    "\n",
    "# data = {\n",
    "#     'name' : 'mashary' ,\n",
    "#     'age' : 19\n",
    "# }\n",
    "\n",
    "\n",
    "# for key , val in  data.items() : \n",
    "#     print(key , val)\n",
    "\n",
    "\n",
    "\n",
    "# newList = [ 22, 23 ,24 ,25 ] \n",
    "\n",
    "# for idx , val in enumerate(newList):\n",
    "#     if val == 23 :\n",
    "#         continue # the real diff is continue skip a certin value but continue the whole loop\n",
    "#     print(val)\n",
    "        \n",
    "    \n",
    "\n",
    "# row = 10\n",
    "# col = 10\n",
    "# shape = \"*\"\n",
    "\n",
    "# for r in range(row) : \n",
    "#     print(r)\n",
    "#     print(shape * col )\n"
   ]
  },
  {
   "cell_type": "code",
   "execution_count": 44,
   "id": "ad2d48d5-6b0c-4182-82ba-cab40188fea8",
   "metadata": {},
   "outputs": [
    {
     "data": {
      "text/plain": [
       "[1, 2, 3, 4, 5, 6]"
      ]
     },
     "execution_count": 44,
     "metadata": {},
     "output_type": "execute_result"
    }
   ],
   "source": [
    "# comprehension \n",
    "\n",
    "\n",
    "\n",
    "# lst = [1, 2, 3, 4, 5]\n",
    "# nlst = [ item*item for item in lst ]\n",
    "# nlst\n",
    "\n",
    "# numbers = [0, 1, 2, 3, 4, 5, 6, 7, 8, 9, 10, \n",
    "#            11, 12, 13, 14, 15, 16, 17, 18, 19, 20]\n",
    "# enum = [ i for i in numbers if i % 2 == 0 ]\n",
    "# enum\n",
    "\n",
    "# l = [ 0 , 1, 2, 3, 4 , 5]\n",
    "# newL = [ \"even\" if num % 2 == 0 else \"odd\"  for num in l  ]\n",
    "# newL\n",
    "\n",
    "# matrix = [[1, 2, 3], \n",
    "#           [4, 5], \n",
    "#           [6]]\n",
    "# flattenl = [n for items in matrix for n in items ]\n",
    "\n",
    "# flattenl\n",
    "\n",
    "\n",
    "# matrix = [\n",
    "#     [1, 2, 3],\n",
    "#     [4, 5, 6],\n",
    "#     [7, 8, 9]\n",
    "# ]\n",
    "\n",
    "# z = [n for items in matrix for n in items if n % 2 == 0 ]\n",
    "# z\n"
   ]
  },
  {
   "cell_type": "code",
   "execution_count": 2,
   "id": "2bf97cd1-9420-49e7-bda0-5c403210da49",
   "metadata": {},
   "outputs": [
    {
     "name": "stdout",
     "output_type": "stream",
     "text": [
      "this is before func\n",
      "hwllo \n",
      "this is after func\n"
     ]
    }
   ],
   "source": [
    "# functions \n",
    "\n",
    "# *args → tuple of unnamed values.\n",
    "\n",
    "# def data(*args):\n",
    "#     for i in args : \n",
    "#         for z in i : \n",
    "#             if z == \"mesho\" : \n",
    "#                 print('found him at index : ', i.index(z))\n",
    "# data((\"om\" , \"ali\" , 'mesho'))\n",
    "\n",
    "\n",
    "# **kwargs → dict of named values.\n",
    "\n",
    "# def data(**kwargs): \n",
    "#     for key , val in kwargs.items():\n",
    "#         print(key , \"===> \", val)\n",
    "\n",
    "# data(name='mashary' , age=19)\n",
    "\n",
    "\n",
    "# def fact(n): \n",
    "#     if n == 1 : \n",
    "#         return 1\n",
    "#     return n* fact(n-1)\n",
    "\n",
    "# fact(5)\n",
    "\n",
    "\n",
    "\n",
    "# !n = n * (n-1)!\n",
    "\n",
    "\n",
    "# nums = [1, 2, 3, 4, 5]\n",
    "# def recursive_sum(lst) : \n",
    "#     if len(lst) == 0 : \n",
    "#         return 0\n",
    "#     return lst[0] + recursive_sum(lst[1:])\n",
    "\n",
    "\n",
    "\n",
    "# result = recursive_sum(nums)\n",
    "# print(result)  # 👉 15\n",
    "\n",
    "\n",
    "# def reverse_string(word): \n",
    "#     if len(word) == 0 : \n",
    "#         return \"\" \n",
    "#     return word[-1] + reverse_string(word[:-1])\n",
    "\n",
    "# w = \"mesho\"\n",
    "# result = reverse_string(w)\n",
    "# print(result)  # 👉 \"ohsem\"\n",
    "\n",
    "# 0,1,1,2,3,5\n",
    "\n",
    "# input -> 1\n",
    "\n",
    "# def fib(n): \n",
    "#     if n == 0 : \n",
    "#         return 0 \n",
    "#     elif n == 1:\n",
    "#         return 1\n",
    "#     else : \n",
    "#         return fib(n-1) + fib(n-2)\n",
    "\n",
    "# z = fib(3)\n",
    "# print(z)\n",
    "\n",
    "\n",
    "\n",
    "# def dec(func) : \n",
    "#     def wrapper(): \n",
    "#         print(\"this is before func\") \n",
    "#         func()\n",
    "#         print('this is after func')\n",
    "#     return wrapper\n",
    "\n",
    "# @dec\n",
    "# def greeting(): \n",
    "#     print('hwllo ') \n",
    "\n",
    "\n",
    "\n",
    "\n",
    "# greeting()\n",
    "\n",
    "\n",
    "\n",
    "\n",
    "\n",
    "\n"
   ]
  },
  {
   "cell_type": "code",
   "execution_count": 8,
   "id": "844f89b6-29e5-4760-a8c8-3af87a9d4370",
   "metadata": {},
   "outputs": [
    {
     "name": "stdout",
     "output_type": "stream",
     "text": [
      "function spent :  2.94 s\n"
     ]
    }
   ],
   "source": [
    "# import time\n",
    "# import math\n",
    "\n",
    "# def functionTimer(fn): \n",
    "#     def wrapper(): \n",
    "#         start = time.time()\n",
    "#         fn()\n",
    "#         end = time.time()\n",
    "#         print(f\"function spent : \", round(end - start, 2),\"s\")\n",
    "#     return wrapper\n",
    "\n",
    "# @functionTimer\n",
    "# def wasteTime(): \n",
    "#     for i in range(100000000): \n",
    "#         i += i\n",
    "\n",
    "# wasteTime()\n"
   ]
  },
  {
   "cell_type": "code",
   "execution_count": 11,
   "id": "ee5dba31-90e3-43ca-921f-216bad72663f",
   "metadata": {},
   "outputs": [
    {
     "name": "stdout",
     "output_type": "stream",
     "text": [
      "Running login()\n",
      "  args: ('mashary',)\n",
      "  kwargs: {'passw': '123'}\n",
      "your name is  mashary\n",
      "your passowrd is 123\n",
      "login() returned: None\n"
     ]
    }
   ],
   "source": [
    "\n",
    "\n",
    "# def logger(func):\n",
    "#     def wrapper(*args, **kwargs):\n",
    "#         print(f\"Running {func.__name__}()\")\n",
    "#         print(f\"  args: {args}\")\n",
    "#         print(f\"  kwargs: {kwargs}\")\n",
    "#         result = func(*args, **kwargs)\n",
    "#         print(f\"{func.__name__}() returned: {result}\")\n",
    "#         return result\n",
    "#     return wrapper\n",
    "\n",
    "\n",
    "# @logger\n",
    "# def login(name , passw): \n",
    "#     print('your name is ' , name)\n",
    "#     print('your passowrd is' , passw)\n",
    "\n",
    "# login('mashary' , passw=\"123\")"
   ]
  },
  {
   "cell_type": "code",
   "execution_count": 23,
   "id": "f4070867-88b5-41fa-a56a-2e0d274585ce",
   "metadata": {},
   "outputs": [],
   "source": [
    "\n",
    "# data = [5, 10, 15, 20]\n",
    "\n",
    "# # your map here\n",
    "# z = map(lambda x : x*2 ,data)\n",
    "\n",
    "\n",
    "# list(z)\n",
    "\n",
    "\n",
    "# words = [\"AI\", \"deep\", \"learning\", \"fun\", \"go\"]\n",
    "\n",
    "# # your filter here\n",
    "# z = map( lambda word: len(word) >=3  ,words)\n",
    "# print(list(z))\n",
    "\n",
    "\n"
   ]
  },
  {
   "cell_type": "code",
   "execution_count": 36,
   "id": "2ac06d4d-0fd3-4172-af6c-bbe0bee7da6d",
   "metadata": {},
   "outputs": [
    {
     "data": {
      "text/plain": [
       "'my type is german'"
      ]
     },
     "execution_count": 36,
     "metadata": {},
     "output_type": "execute_result"
    }
   ],
   "source": [
    "# classes\n",
    "\n",
    "# class Car:\n",
    "#     def __init__(self, brand, year):\n",
    "#         self.brand = brand\n",
    "#         self.year = year\n",
    "\n",
    "#     def show(self):\n",
    "#         print(f\"{self.brand} - {self.year}\")\n",
    "\n",
    "# # make a car object & show it\n",
    "# carOne = Car(\"bmw\" , \"2025\")\n",
    "# carOne.show()\n",
    "\n",
    "\n",
    "# ovveriding method / inheritance \n",
    "class Dog :\n",
    "\n",
    "    def __init__(self, name ) : \n",
    "        self.name = name\n",
    "\n",
    "    def showName(self):\n",
    "        return f\"My name is {self.name}\"\n",
    "\n",
    "\n",
    "class Puppy(Dog) :\n",
    "    spieces = \"german\"\n",
    "    def __init__(self,name , sound): \n",
    "        super().__init__(name)\n",
    "        self.sound = sound\n",
    "\n",
    "    def showName(self) : \n",
    "        return f\"my pupp name is : {self.name}\"\n",
    "    @classmethod\n",
    "    def showtype(cls) : \n",
    "        return f\"my type is {cls.spieces}\"\n",
    "\n",
    "d = Puppy(\"rock\" , \"woof\")\n",
    "d.showtype()\n"
   ]
  }
 ],
 "metadata": {
  "kernelspec": {
   "display_name": "Python [conda env:base] *",
   "language": "python",
   "name": "conda-base-py"
  },
  "language_info": {
   "codemirror_mode": {
    "name": "ipython",
    "version": 3
   },
   "file_extension": ".py",
   "mimetype": "text/x-python",
   "name": "python",
   "nbconvert_exporter": "python",
   "pygments_lexer": "ipython3",
   "version": "3.13.5"
  }
 },
 "nbformat": 4,
 "nbformat_minor": 5
}
