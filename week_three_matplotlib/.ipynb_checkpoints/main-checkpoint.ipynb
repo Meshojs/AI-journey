{
 "cells": [
  {
   "cell_type": "code",
   "execution_count": 34,
   "id": "00d6309b-a4dd-4a86-9ce1-258d35dad054",
   "metadata": {},
   "outputs": [],
   "source": [
    "# import numpy as np\n",
    "# from matplotlib import pyplot as plt\n",
    "\n",
    "\n",
    "\n",
    "# # Basics Dots \n",
    "# x = np.linspace(0,10)\n",
    "# y = np.sin(x)\n",
    "\n",
    "# plt.plot(x , y)\n",
    "# plt.ylabel(\"Y Axis\")\n",
    "# plt.xlabel(\"X axis \" )\n",
    "# plt.show"
   ]
  },
  {
   "cell_type": "code",
   "execution_count": 10,
   "id": "4dd1cc86-3bb8-4c6a-b4f9-e796a031f8d4",
   "metadata": {},
   "outputs": [],
   "source": [
    "# x = np.random.rand(5)\n",
    "# y = np.random.rand(5) \n",
    "\n",
    "# plt.scatter(x,y)\n",
    "# plt.show()"
   ]
  },
  {
   "cell_type": "code",
   "execution_count": 20,
   "id": "5aec4f24-4baa-4c16-9306-46a951abb650",
   "metadata": {},
   "outputs": [],
   "source": [
    "# data = np.random.rand(5)\n",
    "# # it calls histogram\n",
    "# plt.hist(data , bins=50)\n",
    "# plt.show()\n",
    "\n",
    "\n"
   ]
  },
  {
   "cell_type": "code",
   "execution_count": 29,
   "id": "f6dbb0dc-e467-40f9-b132-08d94f868457",
   "metadata": {},
   "outputs": [],
   "source": [
    "# img = np.random.rand(20 ,30)\n",
    "# plt.imshow(img , cmap=\"gray\")\n",
    "# plt.show()"
   ]
  },
  {
   "cell_type": "code",
   "execution_count": 39,
   "id": "6b03e2a0-787c-4406-ab38-b7d182152163",
   "metadata": {},
   "outputs": [],
   "source": [
    "# epochs = [1,2,3,4,5]\n",
    "# loss = [0.9, 0.7, 0.5, 0.3, 0.2]\n",
    "\n",
    "# plt.plot(epochs, loss , color=\"r\" , label=\"Training loss\")\n",
    "# plt.xlabel('Epoch')\n",
    "# plt.ylabel('Loss')\n",
    "# plt.legend()\n",
    "# plt.title('Training Loss')\n",
    "# plt.show()\n"
   ]
  },
  {
   "cell_type": "code",
   "execution_count": 101,
   "id": "78c080b0-1d58-4f00-93ab-925e85b2586f",
   "metadata": {},
   "outputs": [],
   "source": [
    "\n",
    "# plt.figure(figsize=(5, 5))\n",
    "\n",
    "# junior_salaries = [22000, 24000, 25000, 27000]\n",
    "# mid_salaries = [40000, 45000, 48000, 52000]\n",
    "# senior_salaries = [75000, 80000, 85000, 90000]\n",
    "# total = junior_salaries+ mid_salaries+senior_salaries\n",
    "# age = np.array([21, 22, 23, 24])\n",
    "# width = 0.25\n",
    "\n",
    "# plt.bar(age - width ,junior_salaries , width= width )\n",
    "# plt.bar(age ,mid_salaries , width= width )\n",
    "# plt.bar(age + width ,senior_salaries, width= width  )\n",
    "# plt.xticks(ticks = age )\n",
    "# plt.yticks(ticks=total)\n",
    "# plt.show()"
   ]
  },
  {
   "cell_type": "code",
   "execution_count": 9,
   "id": "c18e1f03-5d4a-458f-877b-a12ac8b9d400",
   "metadata": {},
   "outputs": [],
   "source": [
    "# from matplotlib import pyplot as plt\n",
    "# import numpy as np \n",
    "# from collections import Counter\n",
    "# import csv\n",
    "\n",
    "# plt.figure(figsize=(25,5))\n",
    "\n",
    "\n",
    "# plt.style.use(\"fivethirtyeight\")\n",
    "\n",
    "# with open('data.csv' , 'r') as file : \n",
    "#     f = csv.DictReader(file)\n",
    "#     lang_counter = Counter()\n",
    "#     for row in f : \n",
    "#         lang_counter.update(row['LanguagesWorkedWith'].split(';'))\n",
    "\n",
    "\n",
    "# x_lang = []\n",
    "# y_numbers = []\n",
    "# for lang , n in  lang_counter.most_common(15):\n",
    "#     x_lang.append(lang)\n",
    "#     y_numbers.append(n)\n",
    "\n",
    "\n",
    "# plt.bar(x_lang , y_numbers , width=0.25 , label=\"Popularity\" , color='r')\n",
    "# plt.title(\"Most popular Programming languages\")\n",
    "# plt.legend()\n",
    "# plt.show()\n",
    "\n"
   ]
  },
  {
   "cell_type": "code",
   "execution_count": null,
   "id": "ccc4a98b-75ca-49c6-8215-9824934326e4",
   "metadata": {},
   "outputs": [],
   "source": [
    "from matplotlib import pyplot as plt \n",
    "import numpy as np \n",
    "import csv\n",
    "from collections import Counter\n",
    "\n",
    "with open(\"data.csv\" , 'r') as csv_file : \n",
    "    f = csv.DictReader(csv_file)\n",
    "    lang_counter = Counter()\n",
    "    for row in f: \n",
    "        lang_counter.update(row[\"LanguagesWorkedWith\"].split(';'))\n",
    "\n",
    "l = []\n",
    "n = []\n",
    "for lang , num in lang_counter.most_common(6): \n",
    "    l.append(lang)\n",
    "    n.append(n)\n",
    "\n",
    "\n",
    "plt.pie(n , labels=l , shadow=True, autopct=\"%1.1f%%\")\n",
    "plt.show()"
   ]
  },
  {
   "cell_type": "code",
   "execution_count": null,
   "id": "076048fb-c222-48ed-8465-89a98357ccdd",
   "metadata": {},
   "outputs": [],
   "source": []
  }
 ],
 "metadata": {
  "kernelspec": {
   "display_name": "Python [conda env:base] *",
   "language": "python",
   "name": "conda-base-py"
  },
  "language_info": {
   "codemirror_mode": {
    "name": "ipython",
    "version": 3
   },
   "file_extension": ".py",
   "mimetype": "text/x-python",
   "name": "python",
   "nbconvert_exporter": "python",
   "pygments_lexer": "ipython3",
   "version": "3.13.5"
  }
 },
 "nbformat": 4,
 "nbformat_minor": 5
}
