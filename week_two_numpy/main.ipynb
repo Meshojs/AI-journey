{
 "cells": [
  {
   "cell_type": "code",
   "execution_count": null,
   "id": "b0d0794a",
   "metadata": {},
   "outputs": [
    {
     "data": {
      "text/plain": [
       "(3, 3)"
      ]
     },
     "execution_count": 7,
     "metadata": {},
     "output_type": "execute_result"
    }
   ],
   "source": [
    "# # numpy Basics\n",
    "# import numpy as np \n",
    "\n",
    "# lstone = np.array([[1,2,3],\n",
    "#                    [5,6,7],\n",
    "#                    [99,29,10]])\n",
    "# lstone.shape\n"
   ]
  },
  {
   "cell_type": "markdown",
   "id": "e765e3c8",
   "metadata": {},
   "source": [
    "##### scalar number \n",
    "##### vector (number,)\n",
    "##### matrix (number , number) row X col\n",
    "##### All dims called tensors"
   ]
  },
  {
   "cell_type": "code",
   "execution_count": null,
   "id": "54087055",
   "metadata": {},
   "outputs": [
    {
     "data": {
      "text/plain": [
       "array([[0, 1],\n",
       "       [2, 3],\n",
       "       [4, 5],\n",
       "       [6, 7],\n",
       "       [8, 9]])"
      ]
     },
     "execution_count": 12,
     "metadata": {},
     "output_type": "execute_result"
    }
   ],
   "source": [
    "# lsttwo = np.arange(0,10,1)\n",
    "# lsttwo.reshape(2,5)\n",
    "# lsttwo.reshape(5,2)"
   ]
  },
  {
   "cell_type": "code",
   "execution_count": null,
   "id": "56dd39c3",
   "metadata": {},
   "outputs": [
    {
     "data": {
      "text/plain": [
       "array([[0., 0., 0.],\n",
       "       [0., 0., 0.],\n",
       "       [0., 0., 0.]])"
      ]
     },
     "execution_count": 13,
     "metadata": {},
     "output_type": "execute_result"
    }
   ],
   "source": [
    "# lst3 = np.zeros((3,3))\n",
    "# lst3"
   ]
  },
  {
   "cell_type": "code",
   "execution_count": null,
   "id": "f41488ab",
   "metadata": {},
   "outputs": [
    {
     "data": {
      "text/plain": [
       "array([[1., 1., 1.],\n",
       "       [1., 1., 1.],\n",
       "       [1., 1., 1.]])"
      ]
     },
     "execution_count": 14,
     "metadata": {},
     "output_type": "execute_result"
    }
   ],
   "source": [
    "# lst4 = np.ones((3,3))\n",
    "# lst4"
   ]
  },
  {
   "cell_type": "code",
   "execution_count": null,
   "id": "49704b2a",
   "metadata": {},
   "outputs": [
    {
     "data": {
      "text/plain": [
       "array([[6, 6, 6],\n",
       "       [6, 6, 6],\n",
       "       [6, 6, 6]])"
      ]
     },
     "execution_count": 15,
     "metadata": {},
     "output_type": "execute_result"
    }
   ],
   "source": [
    "# lst5 = np.full((3,3),6)\n",
    "# lst5"
   ]
  },
  {
   "cell_type": "markdown",
   "id": "463ab627",
   "metadata": {},
   "source": [
    "#### From python list to ndarray"
   ]
  },
  {
   "cell_type": "code",
   "execution_count": 25,
   "id": "65a02bb5",
   "metadata": {},
   "outputs": [],
   "source": [
    "# python_lst = [1,2,3,4,5]\n",
    "# ndarray = np.array(python_lst)\n",
    "# ndarray.shape #(5,)"
   ]
  },
  {
   "cell_type": "code",
   "execution_count": 26,
   "id": "1498da56",
   "metadata": {},
   "outputs": [],
   "source": [
    "# # slicing an array \n",
    "# import numpy as np \n",
    "# lstone = np.array([[1,2,3,4,5],\n",
    "#                    [6,7,8,9,10]])\n",
    "# # lstone.shape\n",
    "# lstone[1,::2]"
   ]
  },
  {
   "cell_type": "markdown",
   "id": "168055c6",
   "metadata": {},
   "source": [
    "##### 0 -> vertical col \n",
    "##### 1 -> horizontal rows"
   ]
  },
  {
   "cell_type": "code",
   "execution_count": null,
   "id": "4d5b47e5",
   "metadata": {},
   "outputs": [],
   "source": [
    "# import numpy as np \n",
    "\n",
    "\n",
    "# # lstone = np.array([[ [1,2,3],\n",
    "# #                      [4,5,6],\n",
    "# #                      [7,8,9] ]])\n",
    "# # np.sqrt(lstone)\n",
    "# # np.max(lstone)\n",
    "# # np.min(lstone)\n",
    "# # np.absolute(lstone)\n",
    "# # np.log(lstone)\n",
    "# # np.cos(lstone)\n",
    "# # np.sin(lstone)\n",
    "\n",
    "\n",
    "\n",
    "# # lstone = np.array([1,2,3])\n",
    "# # lst_to_append = np.array([4,5,6])\n",
    "# # np.append(lstone , lst_to_append)\n",
    "# # np.amax(lstone)\n",
    "# lstone = np.array([[10,2,3],\n",
    "#                    [4,5,6]])\n",
    "# # lstone.max(axis=0)\n",
    "# # lstone.max(axis=1)\n",
    "# # lstone.sum(axis=1)\n",
    "\n"
   ]
  },
  {
   "cell_type": "markdown",
   "id": "7fc3bdd0",
   "metadata": {},
   "source": [
    "##### View vs copy\n",
    "\n",
    "if u change the OG view will also change\n",
    "copy is otherwise\n",
    "you cant change copy if u had changed the original `it is already different array`"
   ]
  },
  {
   "cell_type": "code",
   "execution_count": null,
   "id": "7167e2e7",
   "metadata": {},
   "outputs": [
    {
     "data": {
      "text/plain": [
       "array([1, 2, 3, 4, 5, 6, 1, 2, 3, 4, 5, 6])"
      ]
     },
     "execution_count": 38,
     "metadata": {},
     "output_type": "execute_result"
    }
   ],
   "source": [
    "# import numpy as np \n",
    "\n",
    "# threedimArray = np.array(\n",
    "#     [\n",
    "#      [[1,2,3],\n",
    "#       [4,5,6]]\n",
    "#      ,\n",
    "#      [[1,2,3],\n",
    "#       [4,5,6]]\n",
    "        \n",
    "#         ]\n",
    "# )\n",
    "\n",
    "# # (1,2,3)\n",
    "\n",
    "# threedimArray.shape\n",
    "\n",
    "# flat = threedimArray.reshape(-1)\n",
    "# flat\n",
    "\n",
    "\n",
    "# # lstview = lstone.view() \n",
    "# # lstone[0] = 30\n",
    "# # lstview\n",
    "\n",
    "# # lstcopy = lstone.copy(\"C\")\n",
    "# # lstone[0] = 30\n",
    "# # lstcopy"
   ]
  },
  {
   "cell_type": "code",
   "execution_count": null,
   "id": "f81afa06",
   "metadata": {},
   "outputs": [
    {
     "name": "stdout",
     "output_type": "stream",
     "text": [
      "1\n",
      "2\n",
      "3\n",
      "4\n",
      "5\n",
      "6\n",
      "1\n",
      "2\n",
      "3\n",
      "4\n",
      "5\n",
      "6\n"
     ]
    }
   ],
   "source": [
    "# # iteriate in np array using np.nditer()\n",
    "\n",
    "# # creating 3d tensor \n",
    "# import numpy as np \n",
    "\n",
    "# arr = np.array(\n",
    "#     [\n",
    "#         [\n",
    "#             [1,2,3],\n",
    "#             [4,5,6]\n",
    "#         ],\n",
    "#         [\n",
    "#             [1,2,3],\n",
    "#             [4,5,6]\n",
    "#         ]\n",
    "#     ]\n",
    "# )\n",
    "# arr.shape\n",
    "# # for x in np.nditer(arr):\n",
    "# #     print(x)\n",
    "    \n",
    "# # or\n",
    "\n",
    "# # for x in arr : \n",
    "# #     for y in x : \n",
    "# #         for z in y : \n",
    "# #             print(z)\n",
    "\n"
   ]
  },
  {
   "cell_type": "code",
   "execution_count": null,
   "id": "d3150f88",
   "metadata": {},
   "outputs": [
    {
     "data": {
      "text/plain": [
       "array([[[ 10,  20, 200],\n",
       "        [  4,   5,   6]]])"
      ]
     },
     "execution_count": 46,
     "metadata": {},
     "output_type": "execute_result"
    }
   ],
   "source": [
    "# # sort using : np.sort()\n",
    "# import numpy as np \n",
    "\n",
    "\n",
    "# arr = np.array(\n",
    "#     [\n",
    "#         [\n",
    "#             [10 , 200 ,20],\n",
    "#             [4,5,6]\n",
    "#         ]\n",
    "#     ]\n",
    "# )\n",
    "\n",
    "# np.sort(arr)"
   ]
  },
  {
   "cell_type": "code",
   "execution_count": null,
   "id": "b0b7a24b",
   "metadata": {},
   "outputs": [
    {
     "data": {
      "text/plain": [
       "[2, 4, 6]"
      ]
     },
     "execution_count": 67,
     "metadata": {},
     "output_type": "execute_result"
    }
   ],
   "source": [
    "# # filter array \n",
    "# import numpy as np \n",
    "\n",
    "# arr = np.array([\n",
    "#     [1,2,3],\n",
    "#     [4,5,6]\n",
    "# ])\n",
    "\n",
    "# z = arr.reshape(-1)\n",
    "# v = z.tolist()\n",
    "\n",
    "# felt = filter(lambda n : n % 2 == 0 , v)\n",
    "# list(felt)"
   ]
  },
  {
   "cell_type": "code",
   "execution_count": null,
   "id": "38215dbc",
   "metadata": {},
   "outputs": [
    {
     "name": "stdout",
     "output_type": "stream",
     "text": [
      "2 3\n"
     ]
    }
   ],
   "source": [
    "# import numpy as np \n",
    "\n",
    "\n",
    "# arr = np.array(\n",
    "#     [\n",
    "#         [1,2,3],\n",
    "#         [4,5,6]\n",
    "#     ]\n",
    "# )\n",
    "\n",
    "# arr2 = np.array(\n",
    "#     [\n",
    "#         [1,2,3],\n",
    "#         [4,5,6]\n",
    "#     ]\n",
    "# )\n",
    "\n",
    "\n",
    "\n",
    "\n",
    "\n",
    "\n",
    "\n",
    "# # arr.flatten()\n",
    "# # arr.reshape(-1)\n",
    "# # arr.transpose()\n",
    "# # arr.T\n",
    "# # z = np.concatenate([arr , arr2])\n",
    "# # x = np.stack([arr,arr2]) # they are both alike but stack add one dimension \n",
    "# # print(z.ndim , x.ndim)\n",
    "\n",
    "\n"
   ]
  },
  {
   "cell_type": "code",
   "execution_count": null,
   "id": "3588a126",
   "metadata": {},
   "outputs": [
    {
     "data": {
      "text/plain": [
       "array([[8, 1, 6],\n",
       "       [0, 2, 8]], dtype=int32)"
      ]
     },
     "execution_count": 24,
     "metadata": {},
     "output_type": "execute_result"
    }
   ],
   "source": [
    "# import numpy as np \n",
    "\n",
    "\n",
    "# z = np.random.randint(0,10 ,(2,3)) # zero to 10 but (2,3) shape\n",
    "# z\n"
   ]
  },
  {
   "cell_type": "code",
   "execution_count": null,
   "id": "d63752c0",
   "metadata": {},
   "outputs": [
    {
     "data": {
      "text/plain": [
       "[array([1]),\n",
       " array([2]),\n",
       " array([3]),\n",
       " array([4]),\n",
       " array([5]),\n",
       " array([6]),\n",
       " array([7]),\n",
       " array([8])]"
      ]
     },
     "execution_count": 32,
     "metadata": {},
     "output_type": "execute_result"
    }
   ],
   "source": [
    "# import numpy as np \n",
    "\n",
    "# arr = np.array([1,2,3,4,5,6,7,8])\n",
    "# np.split(arr,8) # split must have to be on division "
   ]
  },
  {
   "cell_type": "code",
   "execution_count": null,
   "id": "5f6dbb60",
   "metadata": {},
   "outputs": [
    {
     "data": {
      "text/plain": [
       "array([-5.        , -1.66666667,  1.66666667,  5.        ])"
      ]
     },
     "execution_count": 42,
     "metadata": {},
     "output_type": "execute_result"
    }
   ],
   "source": [
    "# import numpy as np \n",
    "# #فـ linspace يقولك: تعال نقسم المسافة من 0 لـ 1 لـ 5 أجزاء متساوية.\n",
    "# z = np.linspace(-5 , 5 , 4) # gonna use it matplotlib  \n",
    "# z"
   ]
  }
 ],
 "metadata": {
  "kernelspec": {
   "display_name": "base",
   "language": "python",
   "name": "python3"
  },
  "language_info": {
   "codemirror_mode": {
    "name": "ipython",
    "version": 3
   },
   "file_extension": ".py",
   "mimetype": "text/x-python",
   "name": "python",
   "nbconvert_exporter": "python",
   "pygments_lexer": "ipython3",
   "version": "3.13.5"
  }
 },
 "nbformat": 4,
 "nbformat_minor": 5
}
